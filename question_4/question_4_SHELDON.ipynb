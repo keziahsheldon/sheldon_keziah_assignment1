{
 "cells": [
  {
   "cell_type": "code",
   "execution_count": 12,
   "metadata": {
    "collapsed": false
   },
   "outputs": [
    {
     "data": {
      "text/plain": [
       "\"\\nHere's my thought process:\\nI. Use np.meshgrid() to make points in a 2x2 plane covering x&y in complexn (ended up using list comprehension)\\nII. Set up a for loop with a range, and then iterate over z = z**2 + c\\nIII. Flag which coordinates of 'c' are getting really big, and append to a separate list\\nIV. Plot those 2 color coordinated lists\\n\""
      ]
     },
     "execution_count": 12,
     "metadata": {},
     "output_type": "execute_result"
    }
   ],
   "source": [
    "import cmath\n",
    "import numpy as np\n",
    "import matplotlib.pyplot as plt\n",
    "'''\n",
    "Here's my thought process:\n",
    "I. Use np.meshgrid() to make points in a 2x2 plane covering x&y in complex (ended up using list comprehension)\n",
    "II. Set up a for loop with a range, and then iterate over z = z**2 + c\n",
    "III. Flag which coordinates of 'c' are getting really big, and append to a separate list\n",
    "IV. Plot those 2 color coordinated lists\n",
    "'''"
   ]
  },
  {
   "cell_type": "code",
   "execution_count": 13,
   "metadata": {
    "collapsed": true
   },
   "outputs": [],
   "source": [
    "z=0\n",
    "l1=[]\n",
    "l2=[]\n",
    "\n",
    "coord=[(-2-2j),\n",
    " (-2-1j),\n",
    " (-2+0j),\n",
    " (-2+1j),\n",
    " (-1-2j),\n",
    " (-1-1j),\n",
    " (-1+0j),\n",
    " (-1+1j),\n",
    " (0-2j),\n",
    " (0-1j),\n",
    " (0+0j),\n",
    " (0+1j),\n",
    " (1-2j),\n",
    " (1-1j),\n",
    " (1+0j),\n",
    " (1+1j)]"
   ]
  },
  {
   "cell_type": "code",
   "execution_count": 14,
   "metadata": {
    "collapsed": false
   },
   "outputs": [
    {
     "data": {
      "text/plain": [
       "array([-2.-2.j, -2.-1.j, -2.+0.j, -2.+1.j, -1.-2.j, -1.-1.j, -1.+0.j,\n",
       "       -1.+1.j,  0.-2.j,  0.-1.j,  0.+1.j,  1.-2.j,  1.-1.j,  1.+0.j,\n",
       "        1.+1.j])"
      ]
     },
     "execution_count": 14,
     "metadata": {},
     "output_type": "execute_result"
    }
   ],
   "source": [
    "l1=[]\n",
    "l2=[]\n",
    "\n",
    "for row in coord:\n",
    "    c=row\n",
    "    z=0\n",
    "    for i in range(0,5):\n",
    "        z=z**2 + c\n",
    "        #print z\n",
    "        if z == (z**2 +c):\n",
    "            l1.append(c)\n",
    "        else:\n",
    "            l2.append(c)\n",
    "#np.unique(l1)\n",
    "np.unique(l2)\n",
    "# this is not working as planned. Originally"
   ]
  },
  {
   "cell_type": "code",
   "execution_count": 15,
   "metadata": {
    "collapsed": false
   },
   "outputs": [
    {
     "ename": "TypeError",
     "evalue": "scatter() takes at least 2 arguments (1 given)",
     "output_type": "error",
     "traceback": [
      "\u001b[0;31m---------------------------------------------------------------------------\u001b[0m",
      "\u001b[0;31mTypeError\u001b[0m                                 Traceback (most recent call last)",
      "\u001b[0;32m<ipython-input-15-bc0360339d38>\u001b[0m in \u001b[0;36m<module>\u001b[0;34m()\u001b[0m\n\u001b[0;32m----> 1\u001b[0;31m \u001b[0mplt\u001b[0m\u001b[0;34m.\u001b[0m\u001b[0mscatter\u001b[0m\u001b[0;34m(\u001b[0m\u001b[0ml2\u001b[0m\u001b[0;34m)\u001b[0m\u001b[0;34m\u001b[0m\u001b[0m\n\u001b[0m\u001b[1;32m      2\u001b[0m \u001b[0mplt\u001b[0m\u001b[0;34m.\u001b[0m\u001b[0mscatter\u001b[0m\u001b[0;34m(\u001b[0m\u001b[0ml1\u001b[0m\u001b[0;34m)\u001b[0m\u001b[0;34m\u001b[0m\u001b[0m\n\u001b[1;32m      3\u001b[0m \u001b[0mplt\u001b[0m\u001b[0;34m.\u001b[0m\u001b[0mshow\u001b[0m\u001b[0;34m(\u001b[0m\u001b[0;34m)\u001b[0m\u001b[0;34m\u001b[0m\u001b[0m\n",
      "\u001b[0;31mTypeError\u001b[0m: scatter() takes at least 2 arguments (1 given)"
     ]
    }
   ],
   "source": [
    "#HERE'S where some of the trouble starts. I have to be able to slice the 'x' and 'y' free from the complex \n",
    "#notation, to get it to plot. What I would do is list comprehension to slice and split the two variables\n",
    "\n",
    "plt.scatter(l2,c='red') #here I would plot the 2 colors\n",
    "plt.scatter(l1,c='blue') #here I would overlay the points so that they are viewable. \n",
    "plt.show()\n",
    "\n",
    "#Since you can't currently view the plot, there are 2 points in the grid I made that do not diverge. They\n",
    "#are on the 0i axis, which makes sense. All the other points diverge."
   ]
  },
  {
   "cell_type": "code",
   "execution_count": null,
   "metadata": {
    "collapsed": true
   },
   "outputs": [],
   "source": []
  }
 ],
 "metadata": {
  "kernelspec": {
   "display_name": "Python 2",
   "language": "python",
   "name": "python2"
  },
  "language_info": {
   "codemirror_mode": {
    "name": "ipython",
    "version": 2
   },
   "file_extension": ".py",
   "mimetype": "text/x-python",
   "name": "python",
   "nbconvert_exporter": "python",
   "pygments_lexer": "ipython2",
   "version": "2.7.13"
  }
 },
 "nbformat": 4,
 "nbformat_minor": 2
}

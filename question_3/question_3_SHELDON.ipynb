{
 "cells": [
  {
   "cell_type": "code",
   "execution_count": 4,
   "metadata": {
    "collapsed": false
   },
   "outputs": [
    {
     "data": {
      "text/plain": [
       "\"\\nFor this problem, I was having a bit of trouble with the numerical integration scheme. I wasn't sure if I was supposed\\nto be able to use a method like 'scipy.integrate', or if I was supposed to manually do the rectangle/trapezoid \\nintegration method. \\n\\nI tried doing it completely manually at first, but I was yielding some very weird plots that were in no way correct.\\n\""
      ]
     },
     "execution_count": 4,
     "metadata": {},
     "output_type": "execute_result"
    }
   ],
   "source": [
    "#Keziah Sheldon\n",
    "import numpy as np\n",
    "\n",
    "'''\n",
    "For this problem, I was having a bit of trouble with the numerical integration scheme. I wasn't sure if I was supposed\n",
    "to be able to use a method like 'scipy.integrate', or if I was supposed to manually do the rectangle/trapezoid \n",
    "integration method. \n",
    "\n",
    "I tried doing it completely manually at first, but I was yielding some very weird plots that were in no way correct.\n",
    "'''"
   ]
  },
  {
   "cell_type": "code",
   "execution_count": 1,
   "metadata": {
    "collapsed": true
   },
   "outputs": [],
   "source": [
    "import numpy as np\n",
    "import matplotlib.pyplot as plt\n",
    "'''\n",
    "def integ(m):\n",
    "\n",
    "    l=[]\n",
    "    N=1000\n",
    "    dx=.001\n",
    "    dthet = np.linspace(0,np.pi,N)\n",
    "    bessel_theta = np.cos(m*dthet) \n",
    "  \tbessel_x = dx*np.cos(-np.sin(dthet))\n",
    "        \n",
    "    plt.plot(xxx,ttt)\n",
    "    plt.show()\n",
    "'''\n",
    "#This in no way works. The 'x' was throwing me off, so I tried solving for x\n",
    "\n",
    "def integ(m):\n",
    "    N=1000\n",
    "    dthet=np.linspace(0,np.pi,N)\n",
    "    bessel_theta=np.cos(m*dthet)/np.cos(-np.sin(dthet))\n",
    "   \n",
    "    plt.plot(bessel_theta)\n",
    "    plt.show()"
   ]
  },
  {
   "cell_type": "code",
   "execution_count": 3,
   "metadata": {
    "collapsed": false
   },
   "outputs": [
    {
     "data": {
      "image/png": "[encoded data removed]",
      "text/plain": [
       "<matplotlib.figure.Figure at 0x7fc2cc752e50>"
      ]
     },
     "metadata": {},
     "output_type": "display_data"
    }
   ],
   "source": [
    "integ(3)"
   ]
  },
  {
   "cell_type": "code",
   "execution_count": null,
   "metadata": {
    "collapsed": true
   },
   "outputs": [],
   "source": [
    "'''\n",
    "What I would do, is use the scipy.integrate() function to numerically get the integral instead of trying some\n",
    "by-hand method that doesn't even work.\n",
    "'''"
   ]
  },
  {
   "cell_type": "code",
   "execution_count": null,
   "metadata": {
    "collapsed": true
   },
   "outputs": [],
   "source": [
    "\"\"\"\n",
    "I.For this part I would use J(x) where m=1 if I had J(x) working properly.\n",
    "II. Then I'd plug in for I(x), thus creating the airy disk as a function of R from aperture\n",
    "III. Save the values in a list, and plot.\n",
    "\"\"\""
   ]
  },
  {
   "cell_type": "code",
   "execution_count": null,
   "metadata": {
    "collapsed": true
   },
   "outputs": [],
   "source": [
    "'''\n",
    "For the last part I'd use a nice image, probably from SDSS or something in .fits format. \n",
    "I've looked at the scipy.convolve(), and it seems like it needs an array-like input,\n",
    "which would work with a .fits. Not completely sure how to make an actual window to select\n",
    "a frame for the window, but in theory that's what I'd have done for the PSF\n",
    "'''"
   ]
  }
 ],
 "metadata": {
  "kernelspec": {
   "display_name": "Python 2",
   "language": "python",
   "name": "python2"
  },
  "language_info": {
   "codemirror_mode": {
    "name": "ipython",
    "version": 2
   },
   "file_extension": ".py",
   "mimetype": "text/x-python",
   "name": "python",
   "nbconvert_exporter": "python",
   "pygments_lexer": "ipython2",
   "version": "2.7.13"
  }
 },
 "nbformat": 4,
 "nbformat_minor": 2
}
